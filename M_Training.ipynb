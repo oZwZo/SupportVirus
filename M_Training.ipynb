{
 "cells": [
  {
   "cell_type": "code",
   "execution_count": 20,
   "metadata": {},
   "outputs": [],
   "source": [
    "import numpy as np\n",
    "import pandas as pd\n",
    "from matplotlib import cm\n",
    "import matplotlib.pyplot as plt\n",
    "from IPython.core.pylabtools import figsize\n",
    "from Bio import SeqIO\n",
    "import os\n",
    "\n",
    "# sklearn package\n",
    "from sklearn.svm import SVC\n",
    "from sklearn.model_selection import train_test_split\n",
    "from sklearn.metrics import roc_curve,roc_auc_score\n",
    "\n",
    "from utils import *\n",
    "from Model import *"
   ]
  },
  {
   "cell_type": "markdown",
   "metadata": {},
   "source": [
    "## Loading data"
   ]
  },
  {
   "cell_type": "code",
   "execution_count": 338,
   "metadata": {},
   "outputs": [],
   "source": [
    "# directly to SeqVector\n",
    "fasta = np.array(fasta_to_vec(read_fasta(path+'M1_M2_560.fasta')))"
   ]
  },
  {
   "cell_type": "markdown",
   "metadata": {},
   "source": [
    "### <font color='steelblue'> discard identical sites across all samples"
   ]
  },
  {
   "cell_type": "code",
   "execution_count": 339,
   "metadata": {},
   "outputs": [],
   "source": [
    "Seq = np.array([SeqVector.seq for SeqVector in fasta])"
   ]
  },
  {
   "cell_type": "code",
   "execution_count": 340,
   "metadata": {},
   "outputs": [
    {
     "name": "stdout",
     "output_type": "stream",
     "text": [
      "number of stable sites: 159\n"
     ]
    }
   ],
   "source": [
    "# return a list of stable sites \n",
    "size = len(Seq)\n",
    "same = []\n",
    "for i in range(Seq.shape[1]):\n",
    "    if np.sum(Seq[:,i] == Seq[0,i]) == size:\n",
    "        same.append(i)\n",
    "\n",
    "print('number of stable sites:',len(same))"
   ]
  },
  {
   "cell_type": "code",
   "execution_count": 341,
   "metadata": {},
   "outputs": [],
   "source": [
    "# the index of sites to keep\n",
    "keep2raw = [i for i in range(Seq.shape[1]) if i not in same]"
   ]
  },
  {
   "cell_type": "code",
   "execution_count": 1202,
   "metadata": {
    "collapsed": true
   },
   "outputs": [
    {
     "data": {
      "text/plain": [
       "[0,\n",
       " 1,\n",
       " 2,\n",
       " 3,\n",
       " 4,\n",
       " 6,\n",
       " 7,\n",
       " 11,\n",
       " 13,\n",
       " 14,\n",
       " 15,\n",
       " 16,\n",
       " 19,\n",
       " 21,\n",
       " 25,\n",
       " 26,\n",
       " 27,\n",
       " 28,\n",
       " 29,\n",
       " 30,\n",
       " 35,\n",
       " 36,\n",
       " 39,\n",
       " 40,\n",
       " 45,\n",
       " 49,\n",
       " 55,\n",
       " 58,\n",
       " 63,\n",
       " 68,\n",
       " 71,\n",
       " 72,\n",
       " 79,\n",
       " 81,\n",
       " 82,\n",
       " 90,\n",
       " 91,\n",
       " 92,\n",
       " 93,\n",
       " 94,\n",
       " 96,\n",
       " 100,\n",
       " 101,\n",
       " 102,\n",
       " 104,\n",
       " 106,\n",
       " 108,\n",
       " 109,\n",
       " 110,\n",
       " 111,\n",
       " 112,\n",
       " 115,\n",
       " 116,\n",
       " 117,\n",
       " 119,\n",
       " 120,\n",
       " 124,\n",
       " 125,\n",
       " 129,\n",
       " 132,\n",
       " 136,\n",
       " 137,\n",
       " 138,\n",
       " 139,\n",
       " 141,\n",
       " 142,\n",
       " 143,\n",
       " 145,\n",
       " 149,\n",
       " 154,\n",
       " 156,\n",
       " 157,\n",
       " 160,\n",
       " 161,\n",
       " 164,\n",
       " 165,\n",
       " 166,\n",
       " 167,\n",
       " 171,\n",
       " 172,\n",
       " 173,\n",
       " 180,\n",
       " 181,\n",
       " 190,\n",
       " 191,\n",
       " 195,\n",
       " 196,\n",
       " 197,\n",
       " 199,\n",
       " 202,\n",
       " 204,\n",
       " 205,\n",
       " 206,\n",
       " 207,\n",
       " 208,\n",
       " 209,\n",
       " 210,\n",
       " 211,\n",
       " 213,\n",
       " 214,\n",
       " 217,\n",
       " 218,\n",
       " 221,\n",
       " 223,\n",
       " 224,\n",
       " 226,\n",
       " 228,\n",
       " 229,\n",
       " 231,\n",
       " 232,\n",
       " 233,\n",
       " 234,\n",
       " 235,\n",
       " 238,\n",
       " 241,\n",
       " 244,\n",
       " 247,\n",
       " 248,\n",
       " 251,\n",
       " 252,\n",
       " 253,\n",
       " 254,\n",
       " 255,\n",
       " 256,\n",
       " 258,\n",
       " 259,\n",
       " 261,\n",
       " 262,\n",
       " 263,\n",
       " 264,\n",
       " 265,\n",
       " 267,\n",
       " 269,\n",
       " 270,\n",
       " 271,\n",
       " 272,\n",
       " 273,\n",
       " 275,\n",
       " 276,\n",
       " 277,\n",
       " 278,\n",
       " 279,\n",
       " 280,\n",
       " 282,\n",
       " 283,\n",
       " 284,\n",
       " 288,\n",
       " 290,\n",
       " 291,\n",
       " 293,\n",
       " 294,\n",
       " 297,\n",
       " 298,\n",
       " 299,\n",
       " 301,\n",
       " 302,\n",
       " 303,\n",
       " 305,\n",
       " 306,\n",
       " 307,\n",
       " 308,\n",
       " 309,\n",
       " 310,\n",
       " 311,\n",
       " 312,\n",
       " 313,\n",
       " 315,\n",
       " 316,\n",
       " 317,\n",
       " 318,\n",
       " 319,\n",
       " 321,\n",
       " 322,\n",
       " 325,\n",
       " 326,\n",
       " 327,\n",
       " 328,\n",
       " 332,\n",
       " 333,\n",
       " 335,\n",
       " 336,\n",
       " 339,\n",
       " 340,\n",
       " 341,\n",
       " 343,\n",
       " 344,\n",
       " 345,\n",
       " 346,\n",
       " 347,\n",
       " 348]"
      ]
     },
     "execution_count": 1202,
     "metadata": {},
     "output_type": "execute_result"
    }
   ],
   "source": [
    "keep2raw"
   ]
  },
  {
   "cell_type": "markdown",
   "metadata": {},
   "source": [
    "### define X and y"
   ]
  },
  {
   "cell_type": "code",
   "execution_count": 922,
   "metadata": {},
   "outputs": [],
   "source": [
    "DKorGS=lambda host : 1 if host in goose else 0"
   ]
  },
  {
   "cell_type": "code",
   "execution_count": 342,
   "metadata": {},
   "outputs": [],
   "source": [
    "for i in range(len(fasta)):\n",
    "    fasta[i].host = 1 if fasta[i].host in goose else 0"
   ]
  },
  {
   "cell_type": "code",
   "execution_count": 846,
   "metadata": {},
   "outputs": [],
   "source": [
    "X = np.array([SeqVector.vector[:,keep2raw].flatten() for SeqVector in M2]) # flatten\n",
    "ID = np.arange(len(M2))\n",
    "y = np.array([SeqVector.host for SeqVector in M2])"
   ]
  },
  {
   "cell_type": "code",
   "execution_count": 344,
   "metadata": {},
   "outputs": [],
   "source": [
    "# double check\n",
    "assert(X.shape[1] == (Seq.shape[1]-len(same))*23)"
   ]
  },
  {
   "cell_type": "markdown",
   "metadata": {},
   "source": [
    "### splite "
   ]
  },
  {
   "cell_type": "code",
   "execution_count": 345,
   "metadata": {},
   "outputs": [],
   "source": [
    "ratio_of = lambda y : np.sum(y==1)/len(y)"
   ]
  },
  {
   "cell_type": "code",
   "execution_count": 918,
   "metadata": {},
   "outputs": [],
   "source": [
    "X_1,X_test,ID_1,ID_test = train_test_split(X,ID,test_size=0.1,shuffle=True)\n",
    "X_train,X_val,ID_train,ID_val = train_test_split(X_1,ID_1,test_size=0.1,shuffle=True)\n",
    "\n",
    "y_train = y[ID_train];y_val = y[ID_val];y_test = y[ID_test]"
   ]
  },
  {
   "cell_type": "code",
   "execution_count": 921,
   "metadata": {},
   "outputs": [
    {
     "name": "stdout",
     "output_type": "stream",
     "text": [
      "------------------------------------------\n",
      "Ratio of positive sample in different sets\n",
      "------------------------------------------\n",
      "train |\t 0.13245033112582782 \n",
      " val  |\t 0.11764705882352941 \n",
      "test  |\t 0.14285714285714285\n",
      "------------------------------------------\n"
     ]
    }
   ],
   "source": [
    "print('------------------------------------------')\n",
    "print('Ratio of positive sample in different sets')\n",
    "print('------------------------------------------')\n",
    "print(  'train |\\t',ratio_of(y_train),\n",
    "      '\\n val  |\\t',ratio_of(y_val),\n",
    "      '\\ntest  |\\t',ratio_of(y_test))\n",
    "print('------------------------------------------')"
   ]
  },
  {
   "cell_type": "markdown",
   "metadata": {},
   "source": [
    "### OK "
   ]
  },
  {
   "cell_type": "markdown",
   "metadata": {},
   "source": [
    "# <font color='navy'> Model"
   ]
  },
  {
   "cell_type": "code",
   "execution_count": 351,
   "metadata": {},
   "outputs": [],
   "source": [
    "import Model"
   ]
  },
  {
   "cell_type": "code",
   "execution_count": 1181,
   "metadata": {},
   "outputs": [],
   "source": [
    "imp.reload(Model)\n",
    "\n",
    "def SV(**kwarg):\n",
    "    return Model.SVC_model(X_train,X_val,y_train,y_val,**kwarg)"
   ]
  },
  {
   "cell_type": "code",
   "execution_count": 1182,
   "metadata": {},
   "outputs": [],
   "source": [
    "C_ls = [0.1,0.5,1,5,10,50,100,150,200,250,500,1000,2000,5000,10000]\n",
    "SV_ls = [SV(**{'C':i,'kernel':'linear'}) for i in C_ls]"
   ]
  },
  {
   "cell_type": "code",
   "execution_count": 1183,
   "metadata": {},
   "outputs": [
    {
     "data": {
      "image/png": "[encoded data removed]",
      "text/plain": [
       "<Figure size 648x432 with 1 Axes>"
      ]
     },
     "metadata": {
      "needs_background": "light"
     },
     "output_type": "display_data"
    }
   ],
   "source": [
    "Model.AUC_trace(SV_ls,'%s')"
   ]
  },
  {
   "cell_type": "markdown",
   "metadata": {},
   "source": [
    "## tuning parameter"
   ]
  },
  {
   "cell_type": "code",
   "execution_count": 965,
   "metadata": {},
   "outputs": [],
   "source": [
    "new_C = tuning_C_given(SV_ls)\n",
    "SV_ls = [SV(**{'C':i,'kernel':'linear'}) for i in new_C]"
   ]
  },
  {
   "cell_type": "code",
   "execution_count": 985,
   "metadata": {},
   "outputs": [
    {
     "name": "stdout",
     "output_type": "stream",
     "text": [
      "The 3th training\n",
      "-----------------------\n",
      "   C \t \t  AUC\n",
      "-----------------------\n",
      " 0.10 \t \t 0.9889\n",
      " 0.14 \t \t 0.9926\n",
      " 0.19 \t \t 0.9926\n",
      " 0.23 \t \t 0.9926\n",
      " 0.28 \t \t 0.9963\n",
      " 0.32 \t \t 0.9963\n",
      " 0.37 \t \t 0.9926\n",
      " 0.41 \t \t 0.9926\n",
      " 0.46 \t \t 0.9889\n",
      " 0.50 \t \t 0.9889\n",
      "-----------------------\n"
     ]
    }
   ],
   "source": [
    "def printting_training_result(SV_ls):\n",
    "    print('-----------------------')\n",
    "    print('   C \\t \\t  AUC')\n",
    "    print('-----------------------')\n",
    "    for model in SV_ls:\n",
    "        print(' %.2f \\t \\t %.4f'%(model.C,model.auc))\n",
    "    print('-----------------------')"
   ]
  },
  {
   "cell_type": "code",
   "execution_count": 963,
   "metadata": {},
   "outputs": [
    {
     "data": {
      "text/plain": [
       "array([ 1.,  2.,  3.,  4.,  5.,  6.,  7.,  8.,  9., 10.])"
      ]
     },
     "execution_count": 963,
     "metadata": {},
     "output_type": "execute_result"
    }
   ],
   "source": [
    "new_C"
   ]
  },
  {
   "cell_type": "code",
   "execution_count": 1185,
   "metadata": {},
   "outputs": [],
   "source": [
    "model=SV_ls[1]"
   ]
  },
  {
   "cell_type": "code",
   "execution_count": 1192,
   "metadata": {},
   "outputs": [
    {
     "data": {
      "text/plain": [
       "array([337,  98,  94, 230, 132, 133, 252,  56, 268,  82, 267,  12, 515,\n",
       "       307, 318, 216,  35, 327, 139, 498, 241, 194,  85,  50, 262, 151,\n",
       "       138, 275, 348,   8,  28, 296,  83, 259, 213,  15, 325, 182,  34,\n",
       "       303, 375, 360, 382, 319, 222, 364, 365,  87, 257, 371, 254, 380,\n",
       "       321, 305, 284, 361, 315, 140, 368, 211, 304, 317])"
      ]
     },
     "execution_count": 1192,
     "metadata": {},
     "output_type": "execute_result"
    }
   ],
   "source": [
    "ID_train[model.support_]"
   ]
  },
  {
   "cell_type": "code",
   "execution_count": 1189,
   "metadata": {},
   "outputs": [
    {
     "data": {
      "text/plain": [
       "array([337,  98,  94, 230, 132, 133, 252,  56, 268,  82, 267,  12, 515,\n",
       "       307, 318, 216,  35, 327, 139, 498, 241, 194,  85,  50, 262, 151,\n",
       "       138, 275, 348,   8,  28, 296,  83, 259, 213,  15, 325, 182,  34])"
      ]
     },
     "execution_count": 1189,
     "metadata": {},
     "output_type": "execute_result"
    }
   ],
   "source": [
    "ID_train[model.support_][np.where(y[ID_train[model.support_]] == 0)[0]]"
   ]
  },
  {
   "cell_type": "code",
   "execution_count": 1195,
   "metadata": {},
   "outputs": [
    {
     "data": {
      "text/plain": [
       "[1, 1, 1, 1, 1, 1, 1, 1, 1, 1, 1, 1, 1, 1, 1, 1, 1, 1, 1, 1, 1, 1, 1]"
      ]
     },
     "execution_count": 1195,
     "metadata": {},
     "output_type": "execute_result"
    }
   ],
   "source": [
    "[M2[i].host for i in ID_train[model.support_][np.where(y[ID_train[model.support_]] == 1)[0]]]"
   ]
  },
  {
   "cell_type": "code",
   "execution_count": 1173,
   "metadata": {
    "scrolled": true
   },
   "outputs": [
    {
     "data": {
      "text/plain": [
       "<module 'Model' from '/home/ZwZ/script/support_virus/Model.py'>"
      ]
     },
     "execution_count": 1173,
     "metadata": {},
     "output_type": "execute_result"
    }
   ],
   "source": [
    "imp.reload(Model)"
   ]
  },
  {
   "cell_type": "code",
   "execution_count": 1174,
   "metadata": {
    "scrolled": false
   },
   "outputs": [],
   "source": [
    "omega = Model.SVM_omega(SV_ls[1].coef_)"
   ]
  },
  {
   "cell_type": "code",
   "execution_count": 1175,
   "metadata": {
    "scrolled": true
   },
   "outputs": [
    {
     "data": {
      "text/plain": [
       "(47, 4)"
      ]
     },
     "execution_count": 1175,
     "metadata": {},
     "output_type": "execute_result"
    }
   ],
   "source": [
    "omega.DF.shape"
   ]
  },
  {
   "cell_type": "code",
   "execution_count": 1201,
   "metadata": {},
   "outputs": [
    {
     "data": {
      "image/png": "[encoded data removed]",
      "text/plain": [
       "<Figure size 432x288 with 1 Axes>"
      ]
     },
     "metadata": {
      "needs_background": "light"
     },
     "output_type": "display_data"
    }
   ],
   "source": [
    "omega.non_zero_hist()"
   ]
  },
  {
   "cell_type": "code",
   "execution_count": 1176,
   "metadata": {
    "scrolled": false
   },
   "outputs": [
    {
     "data": {
      "image/png": "[encoded data removed]",
      "text/plain": [
       "<Figure size 846x216 with 1 Axes>"
      ]
     },
     "metadata": {
      "needs_background": "light"
     },
     "output_type": "display_data"
    }
   ],
   "source": [
    "omega.letter_plot()"
   ]
  },
  {
   "cell_type": "markdown",
   "metadata": {},
   "source": [
    "## what 's support vector"
   ]
  },
  {
   "cell_type": "code",
   "execution_count": 1179,
   "metadata": {},
   "outputs": [
    {
     "data": {
      "text/plain": [
       "array([ 58,  98, 205, 458,  23,  31,  42,  45, 527, 267,  92, 103, 311,\n",
       "       364, 183, 290, 548, 154, 396, 233, 204, 342, 106,  72, 462, 505,\n",
       "       126,  83,  97, 137,  54, 465, 392, 435, 442,   6, 359,  18, 136,\n",
       "       149,  34, 482,  16,  17, 132, 515, 307, 494, 403,  93,  26, 214,\n",
       "       130, 213, 445,  88, 185, 418, 263])"
      ]
     },
     "execution_count": 1179,
     "metadata": {},
     "output_type": "execute_result"
    }
   ],
   "source": [
    "ID_train[model.support_]"
   ]
  },
  {
   "cell_type": "code",
   "execution_count": 949,
   "metadata": {},
   "outputs": [
    {
     "data": {
      "text/plain": [
       "'/home/ZwZ/database/M/linsi/M1_M2_560.fasta'"
      ]
     },
     "execution_count": 949,
     "metadata": {},
     "output_type": "execute_result"
    }
   ],
   "source": [
    "path+'M1_M2_560.fasta'"
   ]
  },
  {
   "cell_type": "code",
   "execution_count": 988,
   "metadata": {},
   "outputs": [],
   "source": [
    "import joblib"
   ]
  },
  {
   "cell_type": "code",
   "execution_count": null,
   "metadata": {},
   "outputs": [],
   "source": [
    "joblib.dump(,'SV_{}.model'.format(repeat+1))"
   ]
  },
  {
   "cell_type": "code",
   "execution_count": 992,
   "metadata": {},
   "outputs": [
    {
     "data": {
      "text/plain": [
       "3"
      ]
     },
     "execution_count": 992,
     "metadata": {},
     "output_type": "execute_result"
    }
   ],
   "source": [
    "args.times_of_training"
   ]
  },
  {
   "cell_type": "code",
   "execution_count": 993,
   "metadata": {},
   "outputs": [],
   "source": [
    "true_ratio = ratio_of(y)"
   ]
  },
  {
   "cell_type": "code",
   "execution_count": null,
   "metadata": {},
   "outputs": [],
   "source": []
  }
 ],
 "metadata": {
  "kernelspec": {
   "display_name": "Python 3",
   "language": "python",
   "name": "python3"
  },
  "language_info": {
   "codemirror_mode": {
    "name": "ipython",
    "version": 3
   },
   "file_extension": ".py",
   "mimetype": "text/x-python",
   "name": "python",
   "nbconvert_exporter": "python",
   "pygments_lexer": "ipython3",
   "version": "3.7.6"
  }
 },
 "nbformat": 4,
 "nbformat_minor": 4
}

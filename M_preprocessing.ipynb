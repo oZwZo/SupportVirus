{
 "cells": [
  {
   "cell_type": "markdown",
   "metadata": {},
   "source": [
    "## Downloading more from gisaid\n",
    "\n",
    "- condition \n",
    "    - H6\n",
    "    - Avian\n",
    "    - with HA, NA, M\n",
    "\n",
    "Isolate name |  Gene name | Type | Passage details/history| Protein Accession no. | Protein INSDC | Collection date\n"
   ]
  },
  {
   "cell_type": "code",
   "execution_count": 1,
   "metadata": {},
   "outputs": [],
   "source": [
    "import numpy as np\n",
    "import pandas as pd\n",
    "import utils \n",
    "import matplotlib.pyplot as plt\n",
    "from matplotlib import cm\n",
    "from IPython.core.pylabtools import figsize\n",
    "from Bio import SeqIO\n",
    "import os\n",
    "import importlib as imp"
   ]
  },
  {
   "cell_type": "code",
   "execution_count": 2,
   "metadata": {
    "scrolled": true
   },
   "outputs": [
    {
     "data": {
      "text/plain": [
       "<module 'utils' from '/home/ZwZ/script/support_virus/utils.py'>"
      ]
     },
     "execution_count": 2,
     "metadata": {},
     "output_type": "execute_result"
    }
   ],
   "source": [
    "imp.reload(utils)"
   ]
  },
  {
   "cell_type": "markdown",
   "metadata": {},
   "source": [
    "## Loading FASTA"
   ]
  },
  {
   "cell_type": "code",
   "execution_count": 3,
   "metadata": {},
   "outputs": [],
   "source": [
    "data_path = '/home/ZwZ/database/M/raw/'"
   ]
  },
  {
   "cell_type": "markdown",
   "metadata": {},
   "source": [
    "gisaid fasta"
   ]
  },
  {
   "cell_type": "code",
   "execution_count": 267,
   "metadata": {
    "scrolled": true
   },
   "outputs": [],
   "source": [
    "gisaid = utils.read_fasta(os.path.join(data_path,'gisaid_DK_GS.fasta'),True)\n",
    "# for the convience of indexing\n",
    "gisaid = np.array(gisaid)"
   ]
  },
  {
   "cell_type": "code",
   "execution_count": 268,
   "metadata": {},
   "outputs": [],
   "source": [
    "columns = ['gene','id','host','subtype','seq_len']\n",
    "gisaid_DF = attribute2DataFrame(columns,gisaid)"
   ]
  },
  {
   "cell_type": "code",
   "execution_count": 353,
   "metadata": {
    "scrolled": false
   },
   "outputs": [
    {
     "data": {
      "text/html": [
       "<div>\n",
       "<style scoped>\n",
       "    .dataframe tbody tr th:only-of-type {\n",
       "        vertical-align: middle;\n",
       "    }\n",
       "\n",
       "    .dataframe tbody tr th {\n",
       "        vertical-align: top;\n",
       "    }\n",
       "\n",
       "    .dataframe thead th {\n",
       "        text-align: right;\n",
       "    }\n",
       "</style>\n",
       "<table border=\"1\" class=\"dataframe\">\n",
       "  <thead>\n",
       "    <tr style=\"text-align: right;\">\n",
       "      <th></th>\n",
       "      <th>gene</th>\n",
       "      <th>id</th>\n",
       "      <th>host</th>\n",
       "      <th>subtype</th>\n",
       "      <th>seq_len</th>\n",
       "    </tr>\n",
       "  </thead>\n",
       "  <tbody>\n",
       "    <tr>\n",
       "      <th>0</th>\n",
       "      <td>HA</td>\n",
       "      <td>EPI2969</td>\n",
       "      <td>duck</td>\n",
       "      <td>H6N2</td>\n",
       "      <td>566</td>\n",
       "    </tr>\n",
       "    <tr>\n",
       "      <th>1</th>\n",
       "      <td>HA</td>\n",
       "      <td>EPI3151</td>\n",
       "      <td>duck</td>\n",
       "      <td>H6N8</td>\n",
       "      <td>566</td>\n",
       "    </tr>\n",
       "    <tr>\n",
       "      <th>2</th>\n",
       "      <td>HA</td>\n",
       "      <td>EPI3233</td>\n",
       "      <td>duck</td>\n",
       "      <td>H6N1</td>\n",
       "      <td>566</td>\n",
       "    </tr>\n",
       "    <tr>\n",
       "      <th>3</th>\n",
       "      <td>HA</td>\n",
       "      <td>EPI7452</td>\n",
       "      <td>Teal</td>\n",
       "      <td>H6N1</td>\n",
       "      <td>566</td>\n",
       "    </tr>\n",
       "    <tr>\n",
       "      <th>4</th>\n",
       "      <td>HA</td>\n",
       "      <td>EPI9473</td>\n",
       "      <td>Mallard</td>\n",
       "      <td>H6N8</td>\n",
       "      <td>565</td>\n",
       "    </tr>\n",
       "  </tbody>\n",
       "</table>\n",
       "</div>"
      ],
      "text/plain": [
       "  gene       id     host subtype  seq_len\n",
       "0   HA  EPI2969     duck    H6N2      566\n",
       "1   HA  EPI3151     duck    H6N8      566\n",
       "2   HA  EPI3233     duck    H6N1      566\n",
       "3   HA  EPI7452     Teal    H6N1      566\n",
       "4   HA  EPI9473  Mallard    H6N8      565"
      ]
     },
     "execution_count": 353,
     "metadata": {},
     "output_type": "execute_result"
    }
   ],
   "source": [
    "gisaid_DF.head()"
   ]
  },
  {
   "cell_type": "code",
   "execution_count": 357,
   "metadata": {},
   "outputs": [
    {
     "data": {
      "text/plain": [
       "(5739, (5739, 5))"
      ]
     },
     "execution_count": 357,
     "metadata": {},
     "output_type": "execute_result"
    }
   ],
   "source": [
    "# check the order !!\n",
    "np.sum(gisaid_DF.id == np.array([SeqRecord.id for SeqRecord in gisaid])),gisaid_DF.shape"
   ]
  },
  {
   "cell_type": "markdown",
   "metadata": {},
   "source": [
    "### length of gene"
   ]
  },
  {
   "cell_type": "code",
   "execution_count": 283,
   "metadata": {},
   "outputs": [
    {
     "name": "stdout",
     "output_type": "stream",
     "text": [
      "max 252 quantile 248.0\n"
     ]
    },
    {
     "data": {
      "image/png": "[encoded data removed]",
      "text/plain": [
       "<Figure size 432x288 with 1 Axes>"
      ]
     },
     "metadata": {
      "needs_background": "light"
     },
     "output_type": "display_data"
    }
   ],
   "source": [
    "print('max',np.max(gisaid_DF[gisaid_DF.gene == 'M1'].seq_len),\n",
    "      'quantile',np.quantile(gisaid_DF[gisaid_DF.gene == 'M1'].seq_len,0.03))\n",
    "\n",
    "plt.hist(gisaid_DF[gisaid_DF.gene == 'M1'].seq_len,bins=30);"
   ]
  },
  {
   "cell_type": "code",
   "execution_count": 284,
   "metadata": {},
   "outputs": [
    {
     "name": "stdout",
     "output_type": "stream",
     "text": [
      "max 97 quantile 91.0\n"
     ]
    },
    {
     "data": {
      "image/png": "[encoded data removed]",
      "text/plain": [
       "<Figure size 432x288 with 1 Axes>"
      ]
     },
     "metadata": {
      "needs_background": "light"
     },
     "output_type": "display_data"
    }
   ],
   "source": [
    "print('max',np.max(gisaid_DF[gisaid_DF.gene == 'M2'].seq_len),\n",
    "      'quantile',np.quantile(gisaid_DF[gisaid_DF.gene == 'M2'].seq_len,0.03))\n",
    "\n",
    "plt.hist(gisaid_DF[gisaid_DF.gene == 'M2'].seq_len,bins=30);"
   ]
  },
  {
   "cell_type": "markdown",
   "metadata": {},
   "source": [
    "### after that we can do screening"
   ]
  },
  {
   "cell_type": "code",
   "execution_count": 285,
   "metadata": {
    "scrolled": true
   },
   "outputs": [
    {
     "data": {
      "text/plain": [
       "1365"
      ]
     },
     "execution_count": 285,
     "metadata": {},
     "output_type": "execute_result"
    }
   ],
   "source": [
    "#select M1 and M2\n",
    "SeqIO.write(list(gisaid[(gisaid_DF.gene == 'M1')&(gisaid_DF.seq_len > 248)]),data_path+'gisaid_M1.fasta','fasta')\n",
    "\n",
    "SeqIO.write(list(gisaid[(gisaid_DF.gene == 'M2')&(gisaid_DF.seq_len > 93)]),data_path+'gisaid_M2.fasta','fasta')"
   ]
  },
  {
   "cell_type": "markdown",
   "metadata": {},
   "source": [
    "## aligner\n",
    "\n",
    "```shell\n",
    "$ python align.py ~/database/M/M/gisaid_M1.fasta ~/database/M/M/M1_identity.npy \n",
    "\n",
    "$ python align.py ~/database/M/M/gisaid_M2.fasta ~/database/M/M/M2_identity.npy \n",
    "```"
   ]
  },
  {
   "cell_type": "markdown",
   "metadata": {},
   "source": [
    "read in the fasta"
   ]
  },
  {
   "cell_type": "code",
   "execution_count": 401,
   "metadata": {},
   "outputs": [],
   "source": [
    "del gisaid\n",
    "g_M1 = np.array(read_fasta(data_path+'gisaid_M1.fasta',True))\n",
    "g_M2 = np.array(read_fasta(data_path+'gisaid_M2.fasta',True))"
   ]
  },
  {
   "cell_type": "markdown",
   "metadata": {},
   "source": [
    "### read identity output"
   ]
  },
  {
   "cell_type": "code",
   "execution_count": 286,
   "metadata": {},
   "outputs": [],
   "source": [
    "score = aligner().score"
   ]
  },
  {
   "cell_type": "code",
   "execution_count": 287,
   "metadata": {},
   "outputs": [],
   "source": [
    "# read ouput npy file\n",
    "M2_identity = np.load(data_path+'M2_identity.npy')\n",
    "M1_identity = np.load(data_path+'M1_identity.npy')"
   ]
  },
  {
   "cell_type": "code",
   "execution_count": 352,
   "metadata": {
    "scrolled": false
   },
   "outputs": [
    {
     "data": {
      "text/plain": [
       "Text(0.5, 1.05, 'M2')"
      ]
     },
     "execution_count": 352,
     "metadata": {},
     "output_type": "execute_result"
    },
    {
     "data": {
      "image/png": "[encoded data removed]",
      "text/plain": [
       "<Figure size 1008x360 with 2 Axes>"
      ]
     },
     "metadata": {
      "needs_background": "light"
     },
     "output_type": "display_data"
    }
   ],
   "source": [
    "plt.figure(figsize=(14,5))\n",
    "\n",
    "axis=plt.subplot(1,2,1)\n",
    "axis.matshow(M1_identity)\n",
    "axis.set_title(\"M1\")\n",
    "\n",
    "axis=plt.subplot(1,2,2)\n",
    "axis.matshow(M2_identity)\n",
    "axis.set_title(\"M2\")"
   ]
  },
  {
   "cell_type": "code",
   "execution_count": 391,
   "metadata": {},
   "outputs": [],
   "source": [
    "# return the n th minimum number and its index\n",
    "def discard_the_less_n(fasta,identity_M,n):\n",
    "    _,min_indexs=most_n(np.mean(identity_M,axis=0),n,'min')\n",
    "    discard=np.unique(np.concatenate(min_indexs))\n",
    "    return fasta[[i for i in range(len(fasta)) if i not in discard]]"
   ]
  },
  {
   "cell_type": "markdown",
   "metadata": {},
   "source": [
    "## 2nd screen"
   ]
  },
  {
   "cell_type": "code",
   "execution_count": 402,
   "metadata": {},
   "outputs": [],
   "source": [
    "# return the 4 th minimum number and its index\n",
    "M1_kept=discard_the_less_n(g_M1,M1_identity,10)\n",
    "M2_kept=discard_the_less_n(g_M2,M2_identity,10)"
   ]
  },
  {
   "cell_type": "code",
   "execution_count": 437,
   "metadata": {},
   "outputs": [
    {
     "name": "stdout",
     "output_type": "stream",
     "text": [
      " M1 : 1355 \n",
      " M2 : 1332 \n",
      " intercept : 1327\n"
     ]
    }
   ],
   "source": [
    "# to find intercepted seq\n",
    "M1_DF=attribute2DataFrame(['id','host'],M1_kept)\n",
    "M2_DF=attribute2DataFrame(['id','host'],M2_kept)\n",
    "merged_df = M1_DF.merge(M2_DF,how='inner',right_on=['id'],left_on=['id'],indicator=True)\n",
    "\n",
    "print(\" M1 :\",M1_DF.shape[0],\"\\n M2 :\",M2_DF.shape[0],\"\\n intercept :\",merged_df.shape[0])"
   ]
  },
  {
   "cell_type": "code",
   "execution_count": 426,
   "metadata": {},
   "outputs": [],
   "source": [
    "# implement screening \n",
    "keep_by_id = lambda fasta,List : [SeqRecord for SeqRecord in fasta if SeqRecord.id in List]\n",
    "\n",
    "M1_clean = keep_by_id(M1_kept,merged_df.id.values)\n",
    "M2_clean = keep_by_id(M2_kept,merged_df.id.values)"
   ]
  },
  {
   "cell_type": "markdown",
   "metadata": {},
   "source": [
    "#### Double Check"
   ]
  },
  {
   "cell_type": "code",
   "execution_count": 450,
   "metadata": {},
   "outputs": [
    {
     "data": {
      "text/plain": [
       "1327"
      ]
     },
     "execution_count": 450,
     "metadata": {},
     "output_type": "execute_result"
    }
   ],
   "source": [
    "array_of = lambda x,fasta : np.array([SeqRecord.__getattribute__(x) for SeqRecord in fasta])\n",
    "np.sum(array_of('id',M1_clean) == array_of('id',M2_clean))"
   ]
  },
  {
   "cell_type": "code",
   "execution_count": 605,
   "metadata": {},
   "outputs": [
    {
     "data": {
      "text/plain": [
       "1327"
      ]
     },
     "execution_count": 605,
     "metadata": {},
     "output_type": "execute_result"
    }
   ],
   "source": [
    "# write\n",
    "SeqIO.write(M1_clean,data_path+'M1_gisaid_clean.fasta','fasta')\n",
    "SeqIO.write(M2_clean,data_path+'M2_gisaid_clean.fasta','fasta')"
   ]
  },
  {
   "cell_type": "code",
   "execution_count": 445,
   "metadata": {},
   "outputs": [],
   "source": [
    "del g_M1\n",
    "del g_M2"
   ]
  },
  {
   "cell_type": "markdown",
   "metadata": {},
   "source": [
    "## MSA by linsi\n",
    "```shell\n",
    "$ nohup linsi --thread -1 /home/ZwZ/database/M/raw/M1_clean.fasta > /home/ZwZ/database/M/linsi/M1_linsi.fasta &\n",
    "\n",
    "$ nohup linsi --thread -1 /home/ZwZ/database/M/raw/M2_clean.fasta > /home/ZwZ/database/M/linsi/M2_linsi.fasta &```"
   ]
  },
  {
   "cell_type": "markdown",
   "metadata": {},
   "source": [
    "## READ MSA"
   ]
  },
  {
   "cell_type": "code",
   "execution_count": 447,
   "metadata": {},
   "outputs": [],
   "source": [
    "M1= read_fasta('/home/ZwZ/database/M/linsi/M1_linsi.fasta',True)\n",
    "M2= read_fasta('/home/ZwZ/database/M/linsi/M2_linsi.fasta',True)"
   ]
  },
  {
   "cell_type": "code",
   "execution_count": 451,
   "metadata": {
    "scrolled": true
   },
   "outputs": [
    {
     "data": {
      "text/plain": [
       "1327"
      ]
     },
     "execution_count": 451,
     "metadata": {},
     "output_type": "execute_result"
    }
   ],
   "source": [
    "np.sum(array_of('id',M1) == array_of('id',M2))"
   ]
  },
  {
   "cell_type": "markdown",
   "metadata": {},
   "source": [
    "# PLX DK GS more"
   ]
  },
  {
   "cell_type": "code",
   "execution_count": 499,
   "metadata": {},
   "outputs": [],
   "source": [
    "DK_H6_M1 = read_fasta(os.path.join(data_path,'DK_M','DK_H6_M1.fas'),True)\n",
    "DK_H6_M2 = read_fasta(os.path.join(data_path,'DK_M','DK_H6_M2.fas'),True)"
   ]
  },
  {
   "cell_type": "code",
   "execution_count": 590,
   "metadata": {
    "scrolled": true
   },
   "outputs": [],
   "source": [
    "def all_gene_in_dir(gene,path,host):\n",
    "    # read all the M2 file and combine into a big list, labeling host info at the same time\n",
    "    fasta_ls = []\n",
    "    for fasta in [item for item in os.listdir(path) if gene in item]:\n",
    "        file= os.path.join(path,fasta)\n",
    "        fasta_ls += read_fasta(file,True)\n",
    "    for i in range(len(fasta_ls)):\n",
    "        fasta_ls[i].host = host\n",
    "        fasta_ls[i].description += '[host={}]'.format(host)\n",
    "    return fasta_ls"
   ]
  },
  {
   "cell_type": "code",
   "execution_count": 721,
   "metadata": {},
   "outputs": [],
   "source": [
    "GS_M1 = all_gene_in_dir('M1',os.path.join(data_path,'GS_M'),'Goose')\n",
    "GS_M2 = all_gene_in_dir('M2',os.path.join(data_path,'GS_M'),'Goose')"
   ]
  },
  {
   "cell_type": "code",
   "execution_count": 521,
   "metadata": {},
   "outputs": [
    {
     "data": {
      "text/plain": [
       "(547, 547)"
      ]
     },
     "execution_count": 521,
     "metadata": {},
     "output_type": "execute_result"
    }
   ],
   "source": [
    "len(GS_M1),len(GS_M2)"
   ]
  },
  {
   "cell_type": "code",
   "execution_count": 529,
   "metadata": {},
   "outputs": [],
   "source": [
    "GS_DF=attribute2DataFrame(['id','host','seq_len'],GS_M1).merge(attribute2DataFrame(['id','host','seq_len'],GS_M2),\n",
    "                                                         how='inner',suffixes = ['_M1','_M2'],\n",
    "                                                         right_on = ['id','host'],\n",
    "                                                         left_on = ['id','host'])                                                        "
   ]
  },
  {
   "cell_type": "markdown",
   "metadata": {},
   "source": [
    "all the sequence are the same length"
   ]
  },
  {
   "cell_type": "code",
   "execution_count": 535,
   "metadata": {},
   "outputs": [
    {
     "data": {
      "text/plain": [
       "(547, 547)"
      ]
     },
     "execution_count": 535,
     "metadata": {},
     "output_type": "execute_result"
    }
   ],
   "source": [
    "# check length\n",
    "np.sum(GS_DF.seq_len_M1 == 759),np.sum(GS_DF.seq_len_M2 == 279)"
   ]
  },
  {
   "cell_type": "code",
   "execution_count": 722,
   "metadata": {},
   "outputs": [],
   "source": [
    "for i in range(len(GS_M1)):\n",
    "    GS_M1[i].seq=GS_M1[i].seq.translate()[:-1]\n",
    "    GS_M1[i].seq_len=len(GS_M1[i])\n",
    "for i in range(len(GS_M2)):\n",
    "    GS_M2[i].seq=GS_M2[i].seq.translate()\n",
    "    GS_M2[i].seq_len=len(GS_M2[i])"
   ]
  },
  {
   "cell_type": "markdown",
   "metadata": {},
   "source": [
    "### DK"
   ]
  },
  {
   "cell_type": "code",
   "execution_count": 723,
   "metadata": {},
   "outputs": [],
   "source": [
    "DK_M1=read_fasta(os.path.join(data_path,'DK_M','DK_H6_M1.fas'),True)\n",
    "DK_M2=read_fasta(os.path.join(data_path,'DK_M','DK_H6_M2.fas'),True)"
   ]
  },
  {
   "cell_type": "code",
   "execution_count": 724,
   "metadata": {},
   "outputs": [],
   "source": [
    "for i in range(len(DK_M1)):\n",
    "    DK_M1[i].host = 'Duck'\n",
    "    DK_M1[i].description += '[host=Duck]'\n",
    "for i in range(len(DK_M2)):\n",
    "    DK_M2[i].host = 'Duck'\n",
    "    DK_M2[i].description += '[host=Duck]'"
   ]
  },
  {
   "cell_type": "code",
   "execution_count": 725,
   "metadata": {
    "scrolled": true
   },
   "outputs": [
    {
     "name": "stdout",
     "output_type": "stream",
     "text": [
      "144\n"
     ]
    },
    {
     "name": "stderr",
     "output_type": "stream",
     "text": [
      "/home/ZwZ/anaconda3/lib/python3.7/site-packages/Bio/Seq.py:2859: BiopythonWarning: Partial codon, len(sequence) not a multiple of three. Explicitly trim the sequence or add trailing N before translation. This may become an error in future.\n",
      "  BiopythonWarning,\n"
     ]
    }
   ],
   "source": [
    "for i in range(len(DK_M1)):\n",
    "    aa = de_alignment(DK_M1[i].seq).translate()[:-1]\n",
    "    if '*' not in aa:\n",
    "        DK_M1[i].seq=aa[:-1]\n",
    "        DK_M1[i].seq_len=len(DK_M1[i])\n",
    "    else:\n",
    "        print(i)"
   ]
  },
  {
   "cell_type": "code",
   "execution_count": 726,
   "metadata": {},
   "outputs": [],
   "source": [
    "for i in range(len(DK_M2)):\n",
    "    aa = de_alignment(DK_M2[i].seq).translate()[:-1]\n",
    "    if '*' not in aa:\n",
    "        DK_M2[i].seq=aa[:-1]\n",
    "        DK_M2[i].seq_len=len(DK_M2[i])\n",
    "    else:\n",
    "        print(i)"
   ]
  },
  {
   "cell_type": "code",
   "execution_count": 727,
   "metadata": {},
   "outputs": [],
   "source": [
    "DK_M1 = [DK_M1[i] for i in range(len(DK_M1)) if i != 144]\n",
    "DK_M2 = [DK_M2[i] for i in range(len(DK_M2)) if i != 144]"
   ]
  },
  {
   "cell_type": "code",
   "execution_count": 728,
   "metadata": {},
   "outputs": [],
   "source": [
    "DK_DF=attribute2DataFrame(['id','host','seq_len'],DK_M1).merge(attribute2DataFrame(['id','host','seq_len'],DK_M2),\n",
    "                                                         how='inner',suffixes = ['_M1','_M2'],\n",
    "                                                         right_on = ['id','host'],\n",
    "                                                         left_on = ['id','host'])                                                        "
   ]
  },
  {
   "cell_type": "code",
   "execution_count": 729,
   "metadata": {},
   "outputs": [
    {
     "data": {
      "text/plain": [
       "(310, 310, 310)"
      ]
     },
     "execution_count": 729,
     "metadata": {},
     "output_type": "execute_result"
    }
   ],
   "source": [
    "len(DK_M1),len(DK_M2),DK_DF.shape[0]"
   ]
  },
  {
   "cell_type": "markdown",
   "metadata": {},
   "source": [
    "# ALL THE SEQUENCE"
   ]
  },
  {
   "cell_type": "code",
   "execution_count": 730,
   "metadata": {},
   "outputs": [
    {
     "data": {
      "text/plain": [
       "2184"
      ]
     },
     "execution_count": 730,
     "metadata": {},
     "output_type": "execute_result"
    }
   ],
   "source": [
    "M1_all=M1_clean + GS_M1 + DK_M1\n",
    "\n",
    "M2_all=M2_clean + GS_M2 + DK_M2\n",
    "\n",
    "SeqIO.write(M1_all,os.path.join(data_path,'M1_all.fasta'),'fasta')\n",
    "\n",
    "SeqIO.write(M2_all,os.path.join(data_path,'M2_all.fasta'),'fasta')"
   ]
  },
  {
   "cell_type": "code",
   "execution_count": 731,
   "metadata": {},
   "outputs": [],
   "source": [
    "M1_M = np.load(os.path.join(data_path,'M1_all.npy'))\n",
    "for i in range(M1_M.shape[0]):\n",
    "    M1_M[i,i] = np.nan\n",
    "M2_M = np.load(os.path.join(data_path,'M2_all.npy'))\n",
    "for i in range(M2_M.shape[0]):\n",
    "    M2_M[i,i] = np.nan"
   ]
  },
  {
   "cell_type": "code",
   "execution_count": 732,
   "metadata": {},
   "outputs": [
    {
     "data": {
      "text/plain": [
       "False"
      ]
     },
     "execution_count": 732,
     "metadata": {},
     "output_type": "execute_result"
    }
   ],
   "source": [
    "0.98939393 == 1"
   ]
  },
  {
   "cell_type": "code",
   "execution_count": 733,
   "metadata": {},
   "outputs": [
    {
     "name": "stderr",
     "output_type": "stream",
     "text": [
      "/home/ZwZ/anaconda3/lib/python3.7/site-packages/ipykernel_launcher.py:1: RuntimeWarning: invalid value encountered in greater\n",
      "  \"\"\"Entry point for launching an IPython kernel.\n",
      "/home/ZwZ/anaconda3/lib/python3.7/site-packages/ipykernel_launcher.py:1: RuntimeWarning: invalid value encountered in less\n",
      "  \"\"\"Entry point for launching an IPython kernel.\n"
     ]
    },
    {
     "data": {
      "text/plain": [
       "<matplotlib.image.AxesImage at 0x7f46fc973610>"
      ]
     },
     "execution_count": 733,
     "metadata": {},
     "output_type": "execute_result"
    },
    {
     "data": {
      "image/png": "[encoded data removed]",
      "text/plain": [
       "<Figure size 288x288 with 1 Axes>"
      ]
     },
     "metadata": {
      "needs_background": "light"
     },
     "output_type": "display_data"
    }
   ],
   "source": [
    "plt.matshow((M2_M > 0.9)&(M2_M <0.98))"
   ]
  },
  {
   "cell_type": "code",
   "execution_count": 734,
   "metadata": {},
   "outputs": [],
   "source": [
    "def drop_identical(matrix):\n",
    "    identical = []\n",
    "\n",
    "    for i in range(matrix.shape[0]):\n",
    "        identical.append(np.where(matrix[i,:]==1)[0])\n",
    "\n",
    "    keep = []\n",
    "\n",
    "    for list in identical:\n",
    "        if len(list) > 0:\n",
    "            keep.append(list[0])\n",
    "\n",
    "    return np.unique(keep),identical"
   ]
  },
  {
   "cell_type": "code",
   "execution_count": 735,
   "metadata": {},
   "outputs": [],
   "source": [
    "idex = lambda List,discard : [i for i in range(len(List)) if i not in discard]"
   ]
  },
  {
   "cell_type": "markdown",
   "metadata": {},
   "source": [
    "&nbsp;    \n",
    "  \n",
    "**<center> <font size=7 color='navy'> |------>> SAVE CLEAN M1 AND M2 <<------|**  \n",
    "    &nbsp;"
   ]
  },
  {
   "cell_type": "code",
   "execution_count": 774,
   "metadata": {},
   "outputs": [
    {
     "data": {
      "text/plain": [
       "193"
      ]
     },
     "execution_count": 774,
     "metadata": {},
     "output_type": "execute_result"
    }
   ],
   "source": [
    "# M1\n",
    "keep,identical = drop_identical(M1_M)\n",
    "M1 = np.array(M1_all)[keep]\n",
    "SeqIO.write(np.array(M1_all)[keep],os.path.join(data_path,'M1_all_clean.fasta'),'fasta')\n",
    "# M2\n",
    "keep,identical = drop_identical(M2_M)\n",
    "M2 = np.array(M2_all)[keep]\n",
    "SeqIO.write(np.array(M2_all)[keep],os.path.join(data_path,'M2_all_clean.fasta'),'fasta')"
   ]
  },
  {
   "cell_type": "code",
   "execution_count": 790,
   "metadata": {},
   "outputs": [],
   "source": [
    "columns = ['id','name','host','seq_len','date','subtype']\n",
    "clean_DF = attribute2DataFrame(columns,M1).merge(attribute2DataFrame(columns,M2),how='right',\n",
    "                                                right_on=['id','name','host','subtype','date'],\n",
    "                                                left_on = ['id','name','host','subtype','date'],\n",
    "                                                suffixes=['_M1','_M2'],indicator=True)"
   ]
  },
  {
   "cell_type": "code",
   "execution_count": 791,
   "metadata": {},
   "outputs": [
    {
     "data": {
      "text/html": [
       "<div>\n",
       "<style scoped>\n",
       "    .dataframe tbody tr th:only-of-type {\n",
       "        vertical-align: middle;\n",
       "    }\n",
       "\n",
       "    .dataframe tbody tr th {\n",
       "        vertical-align: top;\n",
       "    }\n",
       "\n",
       "    .dataframe thead th {\n",
       "        text-align: right;\n",
       "    }\n",
       "</style>\n",
       "<table border=\"1\" class=\"dataframe\">\n",
       "  <thead>\n",
       "    <tr style=\"text-align: right;\">\n",
       "      <th></th>\n",
       "      <th>id</th>\n",
       "      <th>name</th>\n",
       "      <th>host</th>\n",
       "      <th>seq_len_M1</th>\n",
       "      <th>date</th>\n",
       "      <th>subtype</th>\n",
       "      <th>seq_len_M2</th>\n",
       "      <th>_merge</th>\n",
       "    </tr>\n",
       "  </thead>\n",
       "  <tbody>\n",
       "    <tr>\n",
       "      <th>0</th>\n",
       "      <td>EPI22345</td>\n",
       "      <td>EPI22345 A/mallard/Alberta/98/85</td>\n",
       "      <td>mallard</td>\n",
       "      <td>252.0</td>\n",
       "      <td>85</td>\n",
       "      <td>H6N2</td>\n",
       "      <td>97</td>\n",
       "      <td>both</td>\n",
       "    </tr>\n",
       "    <tr>\n",
       "      <th>1</th>\n",
       "      <td>EPI22361</td>\n",
       "      <td>EPI22361 A/pintail/Alberta/113/85</td>\n",
       "      <td>pintail</td>\n",
       "      <td>252.0</td>\n",
       "      <td>85</td>\n",
       "      <td>H6N2</td>\n",
       "      <td>97</td>\n",
       "      <td>both</td>\n",
       "    </tr>\n",
       "    <tr>\n",
       "      <th>2</th>\n",
       "      <td>EPI33840</td>\n",
       "      <td>EPI33840 A/mallard/Maryland/881/2002</td>\n",
       "      <td>mallard</td>\n",
       "      <td>252.0</td>\n",
       "      <td>2002</td>\n",
       "      <td>H6N2</td>\n",
       "      <td>97</td>\n",
       "      <td>both</td>\n",
       "    </tr>\n",
       "    <tr>\n",
       "      <th>3</th>\n",
       "      <td>EPI40336</td>\n",
       "      <td>EPI40336 A/green-winged teal/Ohio/178/1999</td>\n",
       "      <td>green-winged teal</td>\n",
       "      <td>252.0</td>\n",
       "      <td>1999</td>\n",
       "      <td>H6N2</td>\n",
       "      <td>97</td>\n",
       "      <td>both</td>\n",
       "    </tr>\n",
       "    <tr>\n",
       "      <th>4</th>\n",
       "      <td>EPI45717</td>\n",
       "      <td>EPI45717 A/green-winged teal/Ohio/59/1989</td>\n",
       "      <td>green-winged teal</td>\n",
       "      <td>252.0</td>\n",
       "      <td>1989</td>\n",
       "      <td>H6N8</td>\n",
       "      <td>97</td>\n",
       "      <td>both</td>\n",
       "    </tr>\n",
       "    <tr>\n",
       "      <th>...</th>\n",
       "      <td>...</td>\n",
       "      <td>...</td>\n",
       "      <td>...</td>\n",
       "      <td>...</td>\n",
       "      <td>...</td>\n",
       "      <td>...</td>\n",
       "      <td>...</td>\n",
       "      <td>...</td>\n",
       "    </tr>\n",
       "    <tr>\n",
       "      <th>216</th>\n",
       "      <td>CIR026180</td>\n",
       "      <td>Gs/Huizhou/3119/2017</td>\n",
       "      <td>Goose</td>\n",
       "      <td>NaN</td>\n",
       "      <td>2017</td>\n",
       "      <td>H6N2</td>\n",
       "      <td>93</td>\n",
       "      <td>right_only</td>\n",
       "    </tr>\n",
       "    <tr>\n",
       "      <th>217</th>\n",
       "      <td>CIR028977</td>\n",
       "      <td>Gs/Huizhou/1837/2018</td>\n",
       "      <td>Goose</td>\n",
       "      <td>NaN</td>\n",
       "      <td>2018</td>\n",
       "      <td>H6N2</td>\n",
       "      <td>93</td>\n",
       "      <td>right_only</td>\n",
       "    </tr>\n",
       "    <tr>\n",
       "      <th>218</th>\n",
       "      <td>CIR028978</td>\n",
       "      <td>Gs/Huizhou/1848/2018</td>\n",
       "      <td>Goose</td>\n",
       "      <td>NaN</td>\n",
       "      <td>2018</td>\n",
       "      <td>H6N2</td>\n",
       "      <td>93</td>\n",
       "      <td>right_only</td>\n",
       "    </tr>\n",
       "    <tr>\n",
       "      <th>219</th>\n",
       "      <td>CIR034008</td>\n",
       "      <td>Gs/ST/2611/2012</td>\n",
       "      <td>Goose</td>\n",
       "      <td>NaN</td>\n",
       "      <td>2012</td>\n",
       "      <td>H6N2</td>\n",
       "      <td>93</td>\n",
       "      <td>right_only</td>\n",
       "    </tr>\n",
       "    <tr>\n",
       "      <th>220</th>\n",
       "      <td>CIR034012</td>\n",
       "      <td>Gs/ST/2632/2012</td>\n",
       "      <td>Goose</td>\n",
       "      <td>NaN</td>\n",
       "      <td>2012</td>\n",
       "      <td>H6N2</td>\n",
       "      <td>93</td>\n",
       "      <td>right_only</td>\n",
       "    </tr>\n",
       "  </tbody>\n",
       "</table>\n",
       "<p>221 rows × 8 columns</p>\n",
       "</div>"
      ],
      "text/plain": [
       "            id                                        name               host  \\\n",
       "0     EPI22345            EPI22345 A/mallard/Alberta/98/85            mallard   \n",
       "1     EPI22361           EPI22361 A/pintail/Alberta/113/85            pintail   \n",
       "2     EPI33840        EPI33840 A/mallard/Maryland/881/2002            mallard   \n",
       "3     EPI40336  EPI40336 A/green-winged teal/Ohio/178/1999  green-winged teal   \n",
       "4     EPI45717   EPI45717 A/green-winged teal/Ohio/59/1989  green-winged teal   \n",
       "..         ...                                         ...                ...   \n",
       "216  CIR026180                        Gs/Huizhou/3119/2017              Goose   \n",
       "217  CIR028977                        Gs/Huizhou/1837/2018              Goose   \n",
       "218  CIR028978                        Gs/Huizhou/1848/2018              Goose   \n",
       "219  CIR034008                             Gs/ST/2611/2012              Goose   \n",
       "220  CIR034012                             Gs/ST/2632/2012              Goose   \n",
       "\n",
       "     seq_len_M1  date subtype  seq_len_M2      _merge  \n",
       "0         252.0    85    H6N2          97        both  \n",
       "1         252.0    85    H6N2          97        both  \n",
       "2         252.0  2002    H6N2          97        both  \n",
       "3         252.0  1999    H6N2          97        both  \n",
       "4         252.0  1989    H6N8          97        both  \n",
       "..          ...   ...     ...         ...         ...  \n",
       "216         NaN  2017    H6N2          93  right_only  \n",
       "217         NaN  2018    H6N2          93  right_only  \n",
       "218         NaN  2018    H6N2          93  right_only  \n",
       "219         NaN  2012    H6N2          93  right_only  \n",
       "220         NaN  2012    H6N2          93  right_only  \n",
       "\n",
       "[221 rows x 8 columns]"
      ]
     },
     "execution_count": 791,
     "metadata": {},
     "output_type": "execute_result"
    }
   ],
   "source": [
    "clean_DF.seq"
   ]
  },
  {
   "cell_type": "markdown",
   "metadata": {},
   "source": [
    "## delve into the detail of identical gene"
   ]
  },
  {
   "cell_type": "code",
   "execution_count": 792,
   "metadata": {},
   "outputs": [
    {
     "data": {
      "text/plain": [
       "1875"
      ]
     },
     "execution_count": 792,
     "metadata": {},
     "output_type": "execute_result"
    }
   ],
   "source": [
    "# the biggest group of identical sequences\n",
    "M2_all_DF=attribute2DataFrame(['id','name','host','seq_len','date'],M2_all)\n",
    "M2_all_DF.iloc[identical[1874],:].to_csv(data_path+'M2_bigGroup.csv',index=None)\n",
    "np.argmax([len(List) for List in identical])"
   ]
  },
  {
   "cell_type": "code",
   "execution_count": 753,
   "metadata": {},
   "outputs": [],
   "source": [
    "# isolate the sequence of the biggest group and save to fasta\n",
    "bigGroup=np.array(M2_all)[identical[1874]]\n",
    "SeqIO.write(bigGroup,data_path+'M2_bigGroup.fasta','fasta')"
   ]
  },
  {
   "cell_type": "code",
   "execution_count": 794,
   "metadata": {},
   "outputs": [
    {
     "name": "stderr",
     "output_type": "stream",
     "text": [
      "100%|██████████| 485/485 [00:09<00:00, 49.62it/s]\n"
     ]
    },
    {
     "data": {
      "text/plain": [
       "<matplotlib.image.AxesImage at 0x7f47023ce890>"
      ]
     },
     "execution_count": 794,
     "metadata": {},
     "output_type": "execute_result"
    },
    {
     "data": {
      "image/png": "[encoded data removed]",
      "text/plain": [
       "<Figure size 288x288 with 1 Axes>"
      ]
     },
     "metadata": {
      "needs_background": "light"
     },
     "output_type": "display_data"
    }
   ],
   "source": [
    "import align\n",
    "# directly align here\n",
    "big_I = align.identity(bigGroup)\n",
    "plt.matshow(big_I==1)"
   ]
  },
  {
   "cell_type": "code",
   "execution_count": 12,
   "metadata": {},
   "outputs": [],
   "source": [
    "path = '/home/ZwZ/database/M/linsi'"
   ]
  },
  {
   "cell_type": "code",
   "execution_count": 112,
   "metadata": {},
   "outputs": [],
   "source": [
    "M1_all=utils.read_fasta(os.path.join(path,'M1_all_linsi.fasta'),True)\n",
    "\n",
    "M2_all=utils.read_fasta(os.path.join(path,'M2_all_linsi.fasta'),True)"
   ]
  },
  {
   "cell_type": "code",
   "execution_count": 4,
   "metadata": {},
   "outputs": [],
   "source": [
    "from Bio import Seq"
   ]
  },
  {
   "cell_type": "code",
   "execution_count": 114,
   "metadata": {},
   "outputs": [],
   "source": [
    "con = []\n",
    "for i,SeqRecord in enumerate(M1_all):\n",
    "    for Seq2 in M2_all:\n",
    "        if SeqRecord.id == Seq2.id :\n",
    "            SeqRecord.seq = Seq.Seq(SeqRecord.seq.__str__().replace('\\n','')+Seq2.seq.__str__())\n",
    "            SeqRecord.description = SeqRecord.description.replace('M1','M1+M2')\n",
    "            con.append(SeqRecord)"
   ]
  },
  {
   "cell_type": "code",
   "execution_count": 115,
   "metadata": {},
   "outputs": [
    {
     "data": {
      "text/plain": [
       "2184"
      ]
     },
     "execution_count": 115,
     "metadata": {},
     "output_type": "execute_result"
    }
   ],
   "source": [
    "SeqIO.write(con,os.path.join(path,'M1_M2_all.fasta'),'fasta')"
   ]
  },
  {
   "cell_type": "code",
   "execution_count": 116,
   "metadata": {},
   "outputs": [],
   "source": [
    "len_check=np.array([len(SeqRecord.seq) for SeqRecord in con])"
   ]
  },
  {
   "cell_type": "code",
   "execution_count": 117,
   "metadata": {},
   "outputs": [
    {
     "data": {
      "text/plain": [
       "array([349, 349, 349, ..., 349, 349, 349])"
      ]
     },
     "execution_count": 117,
     "metadata": {},
     "output_type": "execute_result"
    }
   ],
   "source": [
    "len_check"
   ]
  },
  {
   "cell_type": "markdown",
   "metadata": {},
   "source": [
    "```shell\n",
    "$ nohup ~/software/iqtree-1.6.12-Linux/bin/iqtree -s M1_M2_all.fasta -nt AUTO -bb 1000 -m MFP&```"
   ]
  },
  {
   "cell_type": "markdown",
   "metadata": {},
   "source": [
    "## Unique phy"
   ]
  },
  {
   "cell_type": "code",
   "execution_count": 6,
   "metadata": {},
   "outputs": [],
   "source": [
    "path = '/home/ZwZ/database/M/linsi/'"
   ]
  },
  {
   "cell_type": "code",
   "execution_count": 95,
   "metadata": {},
   "outputs": [],
   "source": [
    "file = os.path.join('/home/ZwZ/database/M/','tree','M1_M2_all.fasta.uniqueseq.phy')"
   ]
  },
  {
   "cell_type": "code",
   "execution_count": 124,
   "metadata": {},
   "outputs": [],
   "source": [
    "with open(file) as f:\n",
    "    unique=f.readlines()[1:]\n",
    "    f.close()"
   ]
  },
  {
   "cell_type": "code",
   "execution_count": 155,
   "metadata": {},
   "outputs": [],
   "source": [
    "unique = [item.split(' ')[0] for item in unique]"
   ]
  },
  {
   "cell_type": "code",
   "execution_count": 156,
   "metadata": {},
   "outputs": [
    {
     "data": {
      "text/plain": [
       "['EPI7458',\n",
       " 'EPI12210',\n",
       " 'EPI22345',\n",
       " 'EPI22361',\n",
       " 'EPI25831',\n",
       " 'EPI33840',\n",
       " 'EPI40336',\n",
       " 'EPI42760',\n",
       " 'EPI42914',\n",
       " 'EPI44083',\n",
       " 'EPI45679',\n",
       " 'EPI45698',\n",
       " 'EPI45717',\n",
       " 'EPI46727',\n",
       " 'EPI49430',\n",
       " 'EPI52126',\n",
       " 'EPI58944',\n",
       " 'EPI59020',\n",
       " 'EPI59039',\n",
       " 'EPI59058',\n",
       " 'EPI59077',\n",
       " 'EPI59096',\n",
       " 'EPI59115',\n",
       " 'EPI59400',\n",
       " 'EPI59894',\n",
       " 'EPI60559',\n",
       " 'EPI60821',\n",
       " 'EPI68277',\n",
       " 'EPI85494',\n",
       " 'EPI85540',\n",
       " 'EPI85557',\n",
       " 'EPI85773',\n",
       " 'EPI85809',\n",
       " 'EPI85828',\n",
       " 'EPI85850',\n",
       " 'EPI85869',\n",
       " 'EPI85983',\n",
       " 'EPI86040',\n",
       " 'EPI86059',\n",
       " 'EPI86097',\n",
       " 'EPI86116',\n",
       " 'EPI89371',\n",
       " 'EPI89597',\n",
       " 'EPI102033',\n",
       " 'EPI102060',\n",
       " 'EPI102066',\n",
       " 'EPI102114',\n",
       " 'EPI102117',\n",
       " 'EPI102126',\n",
       " 'EPI117913',\n",
       " 'EPI119109',\n",
       " 'EPI120130',\n",
       " 'EPI137811',\n",
       " 'EPI154556',\n",
       " 'EPI154604',\n",
       " 'EPI154819',\n",
       " 'EPI158374',\n",
       " 'EPI167062',\n",
       " 'EPI167070',\n",
       " 'EPI178753',\n",
       " 'EPI178761',\n",
       " 'EPI221455',\n",
       " 'EPI221487',\n",
       " 'EPI221519',\n",
       " 'EPI222179',\n",
       " 'EPI231014',\n",
       " 'EPI231022',\n",
       " 'EPI231030',\n",
       " 'EPI231038',\n",
       " 'EPI231046',\n",
       " 'EPI231054',\n",
       " 'EPI231062',\n",
       " 'EPI231078',\n",
       " 'EPI231086',\n",
       " 'EPI231094',\n",
       " 'EPI231110',\n",
       " 'EPI231140',\n",
       " 'EPI231212',\n",
       " 'EPI236229',\n",
       " 'EPI240172',\n",
       " 'EPI247158',\n",
       " 'EPI268308',\n",
       " 'EPI268313',\n",
       " 'EPI268315',\n",
       " 'EPI268316',\n",
       " 'EPI268317',\n",
       " 'EPI268318',\n",
       " 'EPI268319',\n",
       " 'EPI268323',\n",
       " 'EPI268324',\n",
       " 'EPI268328',\n",
       " 'EPI268333',\n",
       " 'EPI268334',\n",
       " 'EPI268335',\n",
       " 'EPI268336',\n",
       " 'EPI268337',\n",
       " 'EPI268338',\n",
       " 'EPI268339',\n",
       " 'EPI268343',\n",
       " 'EPI268346',\n",
       " 'EPI268347',\n",
       " 'EPI268349',\n",
       " 'EPI268362',\n",
       " 'EPI268363',\n",
       " 'EPI268366',\n",
       " 'EPI268371',\n",
       " 'EPI268373',\n",
       " 'EPI268375',\n",
       " 'EPI268378',\n",
       " 'EPI268381',\n",
       " 'EPI268389',\n",
       " 'EPI268396',\n",
       " 'EPI268397',\n",
       " 'EPI268406',\n",
       " 'EPI268408',\n",
       " 'EPI268410',\n",
       " 'EPI268412',\n",
       " 'EPI268414',\n",
       " 'EPI268418',\n",
       " 'EPI268419',\n",
       " 'EPI268420',\n",
       " 'EPI268421',\n",
       " 'EPI268425',\n",
       " 'EPI268427',\n",
       " 'EPI268428',\n",
       " 'EPI268432',\n",
       " 'EPI268433',\n",
       " 'EPI268437',\n",
       " 'EPI268441',\n",
       " 'EPI268449',\n",
       " 'EPI268450',\n",
       " 'EPI268453',\n",
       " 'EPI268454',\n",
       " 'EPI268459',\n",
       " 'EPI268460',\n",
       " 'EPI268464',\n",
       " 'EPI268465',\n",
       " 'EPI268467',\n",
       " 'EPI268470',\n",
       " 'EPI268471',\n",
       " 'EPI268472',\n",
       " 'EPI272649',\n",
       " 'EPI272657',\n",
       " 'EPI272665',\n",
       " 'EPI290496',\n",
       " 'EPI290584',\n",
       " 'EPI292551',\n",
       " 'EPI295954',\n",
       " 'EPI297499',\n",
       " 'EPI297639',\n",
       " 'EPI298251',\n",
       " 'EPI316856',\n",
       " 'EPI327845',\n",
       " 'EPI327869',\n",
       " 'EPI327957',\n",
       " 'EPI327981',\n",
       " 'EPI327997',\n",
       " 'EPI328101',\n",
       " 'EPI328245',\n",
       " 'EPI328325',\n",
       " 'EPI328778',\n",
       " 'EPI333775',\n",
       " 'EPI333831',\n",
       " 'EPI333887',\n",
       " 'EPI334211',\n",
       " 'EPI334233',\n",
       " 'EPI345694',\n",
       " 'EPI345695',\n",
       " 'EPI345696',\n",
       " 'EPI345697',\n",
       " 'EPI345699',\n",
       " 'EPI345700',\n",
       " 'EPI345703',\n",
       " 'EPI345704',\n",
       " 'EPI345705',\n",
       " 'EPI345706',\n",
       " 'EPI345708',\n",
       " 'EPI345709',\n",
       " 'EPI345712',\n",
       " 'EPI345714',\n",
       " 'EPI345715',\n",
       " 'EPI345716',\n",
       " 'EPI345717',\n",
       " 'EPI345720',\n",
       " 'EPI345724',\n",
       " 'EPI345726',\n",
       " 'EPI345733',\n",
       " 'EPI359228',\n",
       " 'EPI359236',\n",
       " 'EPI359252',\n",
       " 'EPI363458',\n",
       " 'EPI363466',\n",
       " 'EPI363474',\n",
       " 'EPI363490',\n",
       " 'EPI363506',\n",
       " 'EPI363530',\n",
       " 'EPI363562',\n",
       " 'EPI363570',\n",
       " 'EPI363586',\n",
       " 'EPI363618',\n",
       " 'EPI363642',\n",
       " 'EPI363658',\n",
       " 'EPI363740',\n",
       " 'EPI363766',\n",
       " 'EPI363774',\n",
       " 'EPI363814',\n",
       " 'EPI363830',\n",
       " 'EPI363886',\n",
       " 'EPI363910',\n",
       " 'EPI363918',\n",
       " 'EPI363926',\n",
       " 'EPI363933',\n",
       " 'EPI363949',\n",
       " 'EPI363966',\n",
       " 'EPI364006',\n",
       " 'EPI364030',\n",
       " 'EPI364046',\n",
       " 'EPI364061',\n",
       " 'EPI364077',\n",
       " 'EPI364547',\n",
       " 'EPI364555',\n",
       " 'EPI364563',\n",
       " 'EPI364579',\n",
       " 'EPI364595',\n",
       " 'EPI364635',\n",
       " 'EPI364646',\n",
       " 'EPI364653',\n",
       " 'EPI364661',\n",
       " 'EPI364853',\n",
       " 'EPI364897',\n",
       " 'EPI364905',\n",
       " 'EPI365081',\n",
       " 'EPI368968',\n",
       " 'EPI376138',\n",
       " 'EPI387162',\n",
       " 'EPI387183',\n",
       " 'EPI401601',\n",
       " 'EPI401848',\n",
       " 'EPI401911',\n",
       " 'EPI402305',\n",
       " 'EPI402332',\n",
       " 'EPI402345',\n",
       " 'EPI402440',\n",
       " 'EPI417477',\n",
       " 'EPI417485',\n",
       " 'EPI418770',\n",
       " 'EPI418806',\n",
       " 'EPI419110',\n",
       " 'EPI419719',\n",
       " 'EPI437373',\n",
       " 'EPI437425',\n",
       " 'EPI438438',\n",
       " 'EPI441048',\n",
       " 'EPI441052',\n",
       " 'EPI447996',\n",
       " 'EPI448376',\n",
       " 'EPI448391',\n",
       " 'EPI448410',\n",
       " 'EPI448440',\n",
       " 'EPI448452',\n",
       " 'EPI448485',\n",
       " 'EPI448504',\n",
       " 'EPI449764',\n",
       " 'EPI449999',\n",
       " 'EPI456576',\n",
       " 'EPI461089',\n",
       " 'EPI461658',\n",
       " 'EPI463755',\n",
       " 'EPI464979',\n",
       " 'EPI471866',\n",
       " 'EPI471874',\n",
       " 'EPI471882',\n",
       " 'EPI476031',\n",
       " 'EPI476037',\n",
       " 'EPI500929',\n",
       " 'EPI500945',\n",
       " 'EPI500953',\n",
       " 'EPI500961',\n",
       " 'EPI500969',\n",
       " 'EPI501001',\n",
       " 'EPI501009',\n",
       " 'EPI501025',\n",
       " 'EPI501033',\n",
       " 'EPI501081',\n",
       " 'EPI501089',\n",
       " 'EPI501097',\n",
       " 'EPI501113',\n",
       " 'EPI501137',\n",
       " 'EPI512323',\n",
       " 'EPI512330',\n",
       " 'EPI512499',\n",
       " 'EPI512926',\n",
       " 'EPI512999',\n",
       " 'EPI526138',\n",
       " 'EPI526334',\n",
       " 'EPI589825',\n",
       " 'EPI594913',\n",
       " 'EPI595340',\n",
       " 'EPI595928',\n",
       " 'EPI596198',\n",
       " 'EPI596461',\n",
       " 'EPI596464',\n",
       " 'EPI596560',\n",
       " 'EPI596561',\n",
       " 'EPI617877',\n",
       " 'EPI645489',\n",
       " 'EPI645552',\n",
       " 'EPI645566',\n",
       " 'EPI647486',\n",
       " 'EPI647781',\n",
       " 'EPI656541',\n",
       " 'EPI656733',\n",
       " 'EPI657725',\n",
       " 'EPI658130',\n",
       " 'EPI658210',\n",
       " 'EPI658250',\n",
       " 'EPI659330',\n",
       " 'EPI659338',\n",
       " 'EPI659394',\n",
       " 'EPI659402',\n",
       " 'EPI659522',\n",
       " 'EPI659754',\n",
       " 'EPI659802',\n",
       " 'EPI659874',\n",
       " 'EPI659890',\n",
       " 'EPI659898',\n",
       " 'EPI659978',\n",
       " 'EPI660026',\n",
       " 'EPI660074',\n",
       " 'EPI660138',\n",
       " 'EPI660194',\n",
       " 'EPI660322',\n",
       " 'EPI660378',\n",
       " 'EPI660610',\n",
       " 'EPI660810',\n",
       " 'EPI660818',\n",
       " 'EPI660842',\n",
       " 'EPI660898',\n",
       " 'EPI661690',\n",
       " 'EPI661706',\n",
       " 'EPI661850',\n",
       " 'EPI661858',\n",
       " 'EPI661882',\n",
       " 'EPI661978',\n",
       " 'EPI665736',\n",
       " 'EPI666152',\n",
       " 'EPI666168',\n",
       " 'EPI666176',\n",
       " 'EPI666184',\n",
       " 'EPI666240',\n",
       " 'EPI666296',\n",
       " 'EPI666344',\n",
       " 'EPI666368',\n",
       " 'EPI666376',\n",
       " 'EPI666416',\n",
       " 'EPI666696',\n",
       " 'EPI666808',\n",
       " 'EPI666864',\n",
       " 'EPI666976',\n",
       " 'EPI666984',\n",
       " 'EPI666992',\n",
       " 'EPI667280',\n",
       " 'EPI671560',\n",
       " 'EPI671568',\n",
       " 'EPI671584',\n",
       " 'EPI692673',\n",
       " 'EPI692674',\n",
       " 'EPI702353',\n",
       " 'EPI734661',\n",
       " 'EPI734727',\n",
       " 'EPI735122',\n",
       " 'EPI735379',\n",
       " 'EPI736694',\n",
       " 'EPI812741',\n",
       " 'EPI812752',\n",
       " 'EPI855522',\n",
       " 'EPI855730',\n",
       " 'EPI855871',\n",
       " 'EPI889310',\n",
       " 'EPI889512',\n",
       " 'EPI889676',\n",
       " 'EPI889935',\n",
       " 'EPI889960',\n",
       " 'EPI890130',\n",
       " 'EPI890247',\n",
       " 'EPI890511',\n",
       " 'EPI890737',\n",
       " 'EPI890916',\n",
       " 'EPI891003',\n",
       " 'EPI895253',\n",
       " 'EPI895261',\n",
       " 'EPI895269',\n",
       " 'EPI895277',\n",
       " 'EPI895301',\n",
       " 'EPI895317',\n",
       " 'EPI942095',\n",
       " 'EPI942096',\n",
       " 'EPI942112',\n",
       " 'EPI942113',\n",
       " 'EPI965441',\n",
       " 'EPI966934',\n",
       " 'EPI1007239',\n",
       " 'EPI1007255',\n",
       " 'EPI1007295',\n",
       " 'EPI1007303',\n",
       " 'EPI1007319',\n",
       " 'EPI1007375',\n",
       " 'EPI1007383',\n",
       " 'EPI1007391',\n",
       " 'EPI1007407',\n",
       " 'EPI1007431',\n",
       " 'EPI1007473',\n",
       " 'EPI1007478',\n",
       " 'EPI1007567',\n",
       " 'EPI1010670',\n",
       " 'EPI1035775',\n",
       " 'EPI1035782',\n",
       " 'EPI1035798',\n",
       " 'EPI1035806',\n",
       " 'EPI1035815',\n",
       " 'EPI1035832',\n",
       " 'EPI1035840',\n",
       " 'EPI1035848',\n",
       " 'EPI1035864',\n",
       " 'EPI1035872',\n",
       " 'EPI1061068',\n",
       " 'EPI1067997',\n",
       " 'EPI1067999',\n",
       " 'EPI1103464',\n",
       " 'EPI1103466',\n",
       " 'EPI1103467',\n",
       " 'EPI1147978',\n",
       " 'EPI1148058',\n",
       " 'EPI1148066',\n",
       " 'EPI1154219',\n",
       " 'EPI1154304',\n",
       " 'EPI1154365',\n",
       " 'EPI1154451',\n",
       " 'EPI1154602',\n",
       " 'EPI1156567',\n",
       " 'EPI1187138',\n",
       " 'EPI1187202',\n",
       " 'EPI1189857',\n",
       " 'EPI1230098',\n",
       " 'EPI1237405',\n",
       " 'EPI1306911',\n",
       " 'EPI1307039',\n",
       " 'EPI1478984',\n",
       " 'EPI1510849',\n",
       " 'EPI1537326',\n",
       " 'EPI1538247',\n",
       " 'EPI1549283',\n",
       " 'EPI1549291',\n",
       " 'EPI1549520',\n",
       " 'EPI1549545',\n",
       " 'EPI1549678',\n",
       " 'EPI1549716',\n",
       " 'EPI1555359',\n",
       " 'EPI1555383',\n",
       " 'EPI1557238',\n",
       " 'EPI1557246',\n",
       " 'EPI1567214',\n",
       " 'EPI1576595',\n",
       " 'EPI1576690',\n",
       " 'EPI1579182',\n",
       " 'EPI1579272',\n",
       " 'EPI1579435',\n",
       " 'EPI1579998',\n",
       " 'EPI1584701',\n",
       " 'EPI1584717',\n",
       " 'EPI1584733',\n",
       " 'EPI1584790',\n",
       " 'EPI1601747',\n",
       " 'CIR006725',\n",
       " 'CIR006727',\n",
       " 'CIR007446',\n",
       " 'CIR007728',\n",
       " 'CIR008320',\n",
       " 'CIR008742',\n",
       " 'CIR015831',\n",
       " 'CIR018824',\n",
       " 'CIR020142',\n",
       " 'CIR020156',\n",
       " 'CIR020158',\n",
       " 'CIR020441',\n",
       " 'CIR020442',\n",
       " 'CIR020503',\n",
       " 'CIR028521',\n",
       " 'CIR028522',\n",
       " 'CIR029212',\n",
       " 'CIR029234',\n",
       " 'CIR029353',\n",
       " 'CIR034083',\n",
       " 'CIR034087',\n",
       " 'CIR034209',\n",
       " 'CIR034211',\n",
       " 'CIR034223',\n",
       " 'CIR034224',\n",
       " 'CIR034227',\n",
       " 'CIR034237',\n",
       " 'CIR034242',\n",
       " 'CIR034244',\n",
       " 'CIR034255',\n",
       " 'CIR034261',\n",
       " 'CIR034274',\n",
       " 'CIR034275',\n",
       " 'CIR001548',\n",
       " 'CIR001744',\n",
       " 'CIR034008',\n",
       " 'CIR034012',\n",
       " 'CIR034043',\n",
       " 'CIR034049',\n",
       " 'CIR034062',\n",
       " 'CIR001163',\n",
       " 'CIR001683',\n",
       " 'CIR002822',\n",
       " 'CIR005612',\n",
       " 'CIR007295',\n",
       " 'CIR007427',\n",
       " 'CIR008240',\n",
       " 'CIR008241',\n",
       " 'CIR008478',\n",
       " 'CIR010635',\n",
       " 'CIR011388',\n",
       " 'CIR013925',\n",
       " 'CIR013928',\n",
       " 'CIR013973',\n",
       " 'CIR015821',\n",
       " 'CIR015822',\n",
       " 'CIR017061',\n",
       " 'CIR017063',\n",
       " 'CIR020102',\n",
       " 'CIR020122',\n",
       " 'CIR025844',\n",
       " 'CIR025850',\n",
       " 'CIR025916',\n",
       " 'CIR025921',\n",
       " 'CIR025923',\n",
       " 'CIR025924',\n",
       " 'CIR026020',\n",
       " 'CIR026045',\n",
       " 'CIR026046',\n",
       " 'CIR026092',\n",
       " 'CIR026101',\n",
       " 'CIR026103',\n",
       " 'CIR026148',\n",
       " 'CIR026155',\n",
       " 'CIR026156',\n",
       " 'CIR026179',\n",
       " 'CIR026180',\n",
       " 'CIR026394',\n",
       " 'CIR027403',\n",
       " 'CIR028977',\n",
       " 'CIR028978',\n",
       " 'CIR028986',\n",
       " 'CIR028987',\n",
       " 'CIR029183',\n",
       " 'CIR029570',\n",
       " 'CIR029573',\n",
       " 'CIR034207',\n",
       " 'CIR034221',\n",
       " 'CIR034238',\n",
       " 'CIR034282',\n",
       " 'CIR034594',\n",
       " 'CJJ24N704S509',\n",
       " 'AB807764',\n",
       " 'AB812568',\n",
       " 'AB916662',\n",
       " 'AB981469',\n",
       " 'AB983233',\n",
       " 'AJ410575',\n",
       " 'HM144800',\n",
       " 'CY109229',\n",
       " 'CY109237',\n",
       " 'CY109253',\n",
       " 'CY109261',\n",
       " 'CY109269',\n",
       " 'CY109293',\n",
       " 'CY109301',\n",
       " 'CY109325',\n",
       " 'CY109341',\n",
       " 'CY109365',\n",
       " 'CY109389',\n",
       " 'CY109605',\n",
       " 'CY109613',\n",
       " 'CY109629',\n",
       " 'CY109637',\n",
       " 'CY109725',\n",
       " 'CY109765',\n",
       " 'CY109797',\n",
       " 'CY110173',\n",
       " 'CY110181',\n",
       " 'CY110197',\n",
       " 'CY110213',\n",
       " 'CY110321',\n",
       " 'CY110361',\n",
       " 'CY110457',\n",
       " 'CY110491',\n",
       " 'CY110733',\n",
       " 'CY110944',\n",
       " 'DQ376682',\n",
       " 'DQ376685',\n",
       " 'EPISL107988',\n",
       " 'EPISL107989',\n",
       " 'EPISL112127',\n",
       " 'EPISL112159',\n",
       " 'EPISL112186',\n",
       " 'EPISL112233',\n",
       " 'EPISL112337',\n",
       " 'EPISL112351',\n",
       " 'EPISL112386',\n",
       " 'EPISL112405',\n",
       " 'EPISL112496',\n",
       " 'EPISL112613',\n",
       " 'EPISL112642',\n",
       " 'EPISL113254',\n",
       " 'EPISL113309',\n",
       " 'EPISL113358',\n",
       " 'EPISL113359',\n",
       " 'EPISL113550',\n",
       " 'EPISL113766',\n",
       " 'EPISL131251',\n",
       " 'EPISL134539',\n",
       " 'EPISL139138',\n",
       " 'EPISL143938',\n",
       " 'EPISL144922',\n",
       " 'EPISL146883',\n",
       " 'EPISL154168',\n",
       " 'EPISL154169',\n",
       " 'EPISL154170',\n",
       " 'EPISL154175',\n",
       " 'EPISL154176',\n",
       " 'EPISL154178',\n",
       " 'EPISL154179',\n",
       " 'EPISL154185',\n",
       " 'EPISL154186',\n",
       " 'EPISL154189',\n",
       " 'EPISL16136',\n",
       " 'EPISL16141',\n",
       " 'EPISL179375',\n",
       " 'EPISL181121',\n",
       " 'EPISL181138',\n",
       " 'EPISL181139',\n",
       " 'EPISL198755',\n",
       " 'EPISL198779',\n",
       " 'EPISL198965',\n",
       " 'EPISL198980',\n",
       " 'EPISL198989',\n",
       " 'EPISL199115',\n",
       " 'EPISL199123',\n",
       " 'EPISL199124',\n",
       " 'EPISL199139',\n",
       " 'EPISL199176',\n",
       " 'EPISL199194',\n",
       " 'EPISL199210',\n",
       " 'EPISL199224',\n",
       " 'EPISL199247',\n",
       " 'EPISL199275',\n",
       " 'EPISL199308',\n",
       " 'EPISL199312',\n",
       " 'EPISL199319',\n",
       " 'EPISL199418',\n",
       " 'EPISL199420',\n",
       " 'EPISL199454',\n",
       " 'EPISL200428',\n",
       " 'EPISL200480',\n",
       " 'EPISL200483',\n",
       " 'EPISL200507',\n",
       " 'EPISL200562',\n",
       " 'EPISL200569',\n",
       " 'EPISL200583',\n",
       " 'EPISL200584',\n",
       " 'EPISL201359',\n",
       " 'EPISL221717',\n",
       " 'EPISL221718',\n",
       " 'EPISL237131',\n",
       " 'EPISL301023',\n",
       " 'EPISL69215',\n",
       " 'EPISL76289',\n",
       " 'EPISL76291',\n",
       " 'EPISL76293',\n",
       " 'EPISL76334',\n",
       " 'EPISL76336',\n",
       " 'EPISL76348',\n",
       " 'EPISL76354',\n",
       " 'EPISL76364',\n",
       " 'EPISL76369',\n",
       " 'EPISL76372',\n",
       " 'EPISL76385',\n",
       " 'EPISL76392',\n",
       " 'EPISL76400',\n",
       " 'EPISL76422',\n",
       " 'EPISL76423',\n",
       " 'EPISL76432',\n",
       " 'EPISL76437',\n",
       " 'EPISL76447',\n",
       " 'EPISL99550',\n",
       " 'EPISL99552',\n",
       " 'EPISL99570',\n",
       " 'EPISL99580',\n",
       " 'EPISL99582',\n",
       " 'EPISL99586',\n",
       " 'HM050394',\n",
       " 'HM142741',\n",
       " 'HM144745',\n",
       " 'HM144748',\n",
       " 'HM144749',\n",
       " 'HM144750',\n",
       " 'HM144753',\n",
       " 'HM144765',\n",
       " 'HM144766',\n",
       " 'HM144776',\n",
       " 'HM144808',\n",
       " 'HM144815',\n",
       " 'HM144820',\n",
       " 'HM144845',\n",
       " 'HM144848',\n",
       " 'HM144853',\n",
       " 'HM144858',\n",
       " 'HM144872',\n",
       " 'HM144886',\n",
       " 'JF965242',\n",
       " 'JF965243',\n",
       " 'JF965245',\n",
       " 'JF965246',\n",
       " 'JX297582',\n",
       " 'JX304747',\n",
       " 'JX304763',\n",
       " 'KJ200886',\n",
       " 'KJ781233',\n",
       " 'KT266921',\n",
       " 'KT266969',\n",
       " 'KT267001']"
      ]
     },
     "execution_count": 156,
     "metadata": {},
     "output_type": "execute_result"
    }
   ],
   "source": [
    "unique"
   ]
  },
  {
   "cell_type": "code",
   "execution_count": 134,
   "metadata": {},
   "outputs": [
    {
     "data": {
      "text/plain": [
       "733"
      ]
     },
     "execution_count": 134,
     "metadata": {},
     "output_type": "execute_result"
    }
   ],
   "source": [
    "con = []\n",
    "for i,SeqRecord in enumerate(M1_all):\n",
    "    for Seq2 in M2_all:\n",
    "        if SeqRecord.id == Seq2.id :\n",
    "            SeqRecord.seq = Seq.Seq(SeqRecord.seq.__str__().replace('\\n','')+Seq2.seq.__str__())\n",
    "            SeqRecord.description = SeqRecord.description.replace('M1','M1+M2')\n",
    "            con.append(SeqRecord)"
   ]
  },
  {
   "cell_type": "code",
   "execution_count": 163,
   "metadata": {},
   "outputs": [],
   "source": [
    "for i in range(len(con)):\n",
    "    if (' ' in con[i].id): \n",
    "        ids = con[i].id.split(' ')\n",
    "        if ids[0] == ids[1]:\n",
    "            con[i].id = ids[0]"
   ]
  },
  {
   "cell_type": "code",
   "execution_count": 164,
   "metadata": {},
   "outputs": [],
   "source": [
    "u_fasta = [SeqRecord for SeqRecord in con if SeqRecord.id in unique]"
   ]
  },
  {
   "cell_type": "code",
   "execution_count": 165,
   "metadata": {},
   "outputs": [
    {
     "data": {
      "text/plain": [
       "733"
      ]
     },
     "execution_count": 165,
     "metadata": {},
     "output_type": "execute_result"
    }
   ],
   "source": [
    "len(u_fasta)"
   ]
  },
  {
   "cell_type": "code",
   "execution_count": 168,
   "metadata": {},
   "outputs": [
    {
     "data": {
      "text/plain": [
       "733"
      ]
     },
     "execution_count": 168,
     "metadata": {},
     "output_type": "execute_result"
    }
   ],
   "source": [
    "SeqIO.write(u_fasta,os.path.join(path,'M1_M2_unique.fasta'),'fasta')"
   ]
  },
  {
   "cell_type": "code",
   "execution_count": 8,
   "metadata": {},
   "outputs": [],
   "source": [
    "u_fasta=utils.read_fasta(os.path.join(path,'M1_M2_unique.fasta'),True)"
   ]
  },
  {
   "cell_type": "code",
   "execution_count": 10,
   "metadata": {},
   "outputs": [
    {
     "data": {
      "text/plain": [
       "Seq('MSLLTEVETYVLSIIPSGPLKAEIAQRLEDVFAGKNTDLEALMEWLKTRPILSP...EL-', SingleLetterAlphabet())"
      ]
     },
     "execution_count": 10,
     "metadata": {},
     "output_type": "execute_result"
    }
   ],
   "source": [
    "u_fasta[13].seq"
   ]
  },
  {
   "cell_type": "code",
   "execution_count": 14,
   "metadata": {},
   "outputs": [],
   "source": [
    "score = utils.aligner().score"
   ]
  },
  {
   "cell_type": "code",
   "execution_count": 23,
   "metadata": {},
   "outputs": [
    {
     "ename": "ValueError",
     "evalue": "sequence contains letters not in the alphabet",
     "output_type": "error",
     "traceback": [
      "\u001b[0;31m---------------------------------------------------------------------------\u001b[0m",
      "\u001b[0;31mValueError\u001b[0m                                Traceback (most recent call last)",
      "\u001b[0;32m<ipython-input-23-86b6c5ba392e>\u001b[0m in \u001b[0;36m<module>\u001b[0;34m\u001b[0m\n\u001b[0;32m----> 1\u001b[0;31m \u001b[0mscore\u001b[0m\u001b[0;34m(\u001b[0m\u001b[0mu_fasta\u001b[0m\u001b[0;34m[\u001b[0m\u001b[0;36m0\u001b[0m\u001b[0;34m]\u001b[0m\u001b[0;34m.\u001b[0m\u001b[0mseq\u001b[0m\u001b[0;34m,\u001b[0m\u001b[0mu_fasta\u001b[0m\u001b[0;34m[\u001b[0m\u001b[0;36m13\u001b[0m\u001b[0;34m]\u001b[0m\u001b[0;34m.\u001b[0m\u001b[0mseq\u001b[0m\u001b[0;34m.\u001b[0m\u001b[0m__str__\u001b[0m\u001b[0;34m(\u001b[0m\u001b[0;34m)\u001b[0m\u001b[0;34m.\u001b[0m\u001b[0mreplace\u001b[0m\u001b[0;34m(\u001b[0m\u001b[0;34m'-'\u001b[0m\u001b[0;34m,\u001b[0m\u001b[0;34m'*'\u001b[0m\u001b[0;34m)\u001b[0m\u001b[0;34m)\u001b[0m\u001b[0;34m\u001b[0m\u001b[0;34m\u001b[0m\u001b[0m\n\u001b[0m",
      "\u001b[0;32m~/anaconda3/lib/python3.7/site-packages/Bio/Align/__init__.py\u001b[0m in \u001b[0;36mscore\u001b[0;34m(self, seqA, seqB)\u001b[0m\n\u001b[1;32m   1525\u001b[0m         \u001b[0;32mif\u001b[0m \u001b[0misinstance\u001b[0m\u001b[0;34m(\u001b[0m\u001b[0mseqB\u001b[0m\u001b[0;34m,\u001b[0m \u001b[0mSeq\u001b[0m\u001b[0;34m)\u001b[0m\u001b[0;34m:\u001b[0m\u001b[0;34m\u001b[0m\u001b[0;34m\u001b[0m\u001b[0m\n\u001b[1;32m   1526\u001b[0m             \u001b[0mseqB\u001b[0m \u001b[0;34m=\u001b[0m \u001b[0mstr\u001b[0m\u001b[0;34m(\u001b[0m\u001b[0mseqB\u001b[0m\u001b[0;34m)\u001b[0m\u001b[0;34m\u001b[0m\u001b[0;34m\u001b[0m\u001b[0m\n\u001b[0;32m-> 1527\u001b[0;31m         \u001b[0;32mreturn\u001b[0m \u001b[0m_aligners\u001b[0m\u001b[0;34m.\u001b[0m\u001b[0mPairwiseAligner\u001b[0m\u001b[0;34m.\u001b[0m\u001b[0mscore\u001b[0m\u001b[0;34m(\u001b[0m\u001b[0mself\u001b[0m\u001b[0;34m,\u001b[0m \u001b[0mseqA\u001b[0m\u001b[0;34m,\u001b[0m \u001b[0mseqB\u001b[0m\u001b[0;34m)\u001b[0m\u001b[0;34m\u001b[0m\u001b[0;34m\u001b[0m\u001b[0m\n\u001b[0m\u001b[1;32m   1528\u001b[0m \u001b[0;34m\u001b[0m\u001b[0m\n\u001b[1;32m   1529\u001b[0m \u001b[0;34m\u001b[0m\u001b[0m\n",
      "\u001b[0;31mValueError\u001b[0m: sequence contains letters not in the alphabet"
     ]
    }
   ],
   "source": [
    "score(u_fasta[0].seq,u_fasta[13].seq.__str__().replace('-',''))"
   ]
  },
  {
   "cell_type": "code",
   "execution_count": 20,
   "metadata": {},
   "outputs": [
    {
     "name": "stdout",
     "output_type": "stream",
     "text": [
      "Pairwise sequence aligner with parameters\n",
      "  match_score: 1.000000\n",
      "  mismatch_score: 0.000000\n",
      "  target_internal_open_gap_score: 0.000000\n",
      "  target_internal_extend_gap_score: 0.000000\n",
      "  target_left_open_gap_score: 0.000000\n",
      "  target_left_extend_gap_score: 0.000000\n",
      "  target_right_open_gap_score: 0.000000\n",
      "  target_right_extend_gap_score: 0.000000\n",
      "  query_internal_open_gap_score: 0.000000\n",
      "  query_internal_extend_gap_score: 0.000000\n",
      "  query_left_open_gap_score: 0.000000\n",
      "  query_left_extend_gap_score: 0.000000\n",
      "  query_right_open_gap_score: 0.000000\n",
      "  query_right_extend_gap_score: 0.000000\n",
      "  mode: global\n",
      "\n"
     ]
    }
   ],
   "source": [
    "print(utils.aligner())"
   ]
  },
  {
   "cell_type": "code",
   "execution_count": null,
   "metadata": {},
   "outputs": [],
   "source": []
  }
 ],
 "metadata": {
  "kernelspec": {
   "display_name": "Python 3",
   "language": "python",
   "name": "python3"
  },
  "language_info": {
   "codemirror_mode": {
    "name": "ipython",
    "version": 3
   },
   "file_extension": ".py",
   "mimetype": "text/x-python",
   "name": "python",
   "nbconvert_exporter": "python",
   "pygments_lexer": "ipython3",
   "version": "3.7.6"
  }
 },
 "nbformat": 4,
 "nbformat_minor": 4
}
